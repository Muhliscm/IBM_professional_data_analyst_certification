{
  "nbformat": 4,
  "nbformat_minor": 0,
  "metadata": {
    "colab": {
      "name": "Untitled3.ipynb",
      "provenance": [],
      "authorship_tag": "ABX9TyMqSiPuhfx+D+z+l6tFYdBg",
      "include_colab_link": true
    },
    "kernelspec": {
      "name": "python3",
      "display_name": "Python 3"
    }
  },
  "cells": [
    {
      "cell_type": "markdown",
      "metadata": {
        "id": "view-in-github",
        "colab_type": "text"
      },
      "source": [
        "<a href=\"https://colab.research.google.com/github/Muhliscm/IBM_professional_data_analyst_certification/blob/main/Untitled3.ipynb\" target=\"_parent\"><img src=\"https://colab.research.google.com/assets/colab-badge.svg\" alt=\"Open In Colab\"/></a>"
      ]
    },
    {
      "cell_type": "code",
      "metadata": {
        "id": "Gyo49LsWlgmG"
      },
      "source": [
        "from bs4 import BeautifulSoup\r\n",
        "import requests"
      ],
      "execution_count": 2,
      "outputs": []
    },
    {
      "cell_type": "code",
      "metadata": {
        "id": "Gg7zlsYQlwQr"
      },
      "source": [
        "url = 'http://www.ibm.com'"
      ],
      "execution_count": 3,
      "outputs": []
    },
    {
      "cell_type": "code",
      "metadata": {
        "id": "BxG0Bc6pl_C4"
      },
      "source": [
        "data = requests.get(url).text"
      ],
      "execution_count": 5,
      "outputs": []
    },
    {
      "cell_type": "code",
      "metadata": {
        "id": "n1arQhwXmEzG"
      },
      "source": [
        "soup = BeautifulSoup(data, \"html5lib\")"
      ],
      "execution_count": 6,
      "outputs": []
    },
    {
      "cell_type": "code",
      "metadata": {
        "colab": {
          "base_uri": "https://localhost:8080/"
        },
        "id": "vUIL7ux1mSyH",
        "outputId": "4fef819c-70ab-470b-9b1d-c5bcdbcec4c9"
      },
      "source": [
        "for link in soup.find_all('a'):\r\n",
        "  print(link.get('href'))"
      ],
      "execution_count": 7,
      "outputs": [
        {
          "output_type": "stream",
          "text": [
            "https://www.ibm.com/tw/zh\n",
            "https://www.ibm.com/sitemap/tw/zh\n",
            "/tw-zh/node/1706826\n",
            "https://1.cms.s81c.com/sites/default/files/2020-03-20/44444.png\n",
            "https://1.cms.s81c.com/sites/default/files/2020-03-20/44444.png\n",
            "https://www.ibm.com/tw-zh/services/business-resiliency-agile\n",
            "/taxonomy/term/85416\n",
            "/tw-zh/node/1706851\n",
            "/tw-zh/node/2810268\n",
            "/tw-zh/node/1706836\n",
            "/tw-zh/node/1706841\n",
            "/tw-zh/node/2201785\n",
            "/taxonomy/term/85416\n",
            "/tw-zh/node/1706821\n",
            "/taxonomy/term/85416\n",
            "https://www.ibm.com/tw-zh/employment/\n",
            "/tw-zh/node/1706816\n",
            "https://www.ibm.com/tw-zh/products?lnk=STW_TW_HP_FT_BLK&psrc=NONE&pexp=DEF&lnk2=goto_PHP\n",
            "/tw-zh/node/1706796\n",
            "/tw-zh/node/2779112\n",
            "/tw-zh/node/2779116\n",
            "/tw-zh/node/2779114\n",
            "/taxonomy/term/85416\n",
            "/tw-zh/node/1706866\n",
            "/tw-zh/node/1706861\n",
            "/taxonomy/term/85416\n",
            "https://www.ibm.com/tw-zh/products\n",
            "https://www.ibm.com/tw-zh/services/business-resiliency-agile\n",
            "https://www.ibm.com/tw-zh/services/business-resiliency-agile\n",
            "https://www.ibm.com/tw-zh/it-infrastructure/storage/flash?lnk=STW_TW_HP_F1_BLK&psrc=NONE&pexp=DEF&lnk2=goto_FlashStorage\n",
            "https://www.ibm.com/tw-zh/it-infrastructure/storage#2694814?lnk=STW_TW_HP_F1_BLK&psrc=NONE&pexp=DEF&lnk2=goto_Storage\n",
            "https://www.ibm.com/tw-zh/smarter-business/customer-experience\n",
            "https://www.ibm.com/tw-zh/cloud/hybrid?lnk=STW_TW_HP_F4_BLK&psrc=NONE&pexp=DEF&lnk2=goto_Hybrid_Cloud\n",
            "https://www.ibm.com/tw-zh/products?lnk=STW_TW_HP_FT_BLK&psrc=NONE&pexp=DEF&lnk2=goto_PHP\n",
            "https://www.ibm.com/tw-zh/products/spss-statistics/?lnk=STW_TW_THP_T1_TL&lnk2=goto_SPSS&psrc=none&pexp=def\n",
            "https://www.ibm.com/tw-zh/cloud/satellite?lnk=STW_TW_HP_SWT2_BLK&psrc=NONE&pexp=DEF&lnk2=goto_CloudSat\n",
            "https://www.ibm.com/tw-zh/products/blueworkslive?lnk=STW_TW_HP_SWT4_BLK&psrc=NONE&pexp=DEF&lnk2=trial_BluLive\n",
            "https://www.ibm.com/tw-zh/cloud/paks?lnk=STW_TW_HP_P3_BLK&psrc=NONE&pexp=DEF&lnk2=goto_CloudPakS\n",
            "https://www.ibm.com/search?lang=zh-tw&amp;cc=tw&amp;q=\n",
            "https://www.ibm.com/tw-zh/products\n",
            "https://www.ibm.com/tw-zh/products\n",
            "//www.ibm.com/tw-zh/products/category/technology/IT-infrastructure\n",
            "//www.ibm.com/tw-zh/products/category/technology/analytics\n",
            "//www.ibm.com/tw-zh/products/category/technology/mobile-technology\n",
            "//www.ibm.com/tw-zh/products/category/technology/IT-management\n",
            "//www.ibm.com/tw-zh/products/category/technology/blockchain\n",
            "//www.ibm.com/tw-zh/products/category/technology/software-development\n",
            "//www.ibm.com/tw-zh/products/category/technology/cognitive-computing-and-AI\n",
            "//www.ibm.com/tw-zh/products/category/technology/security\n",
            "//www.ibm.com/tw-zh/products/category/technology/cloud-computing\n",
            "//www.ibm.com/tw-zh/products/category/technology/IT-infrastructure\n",
            "//www.ibm.com/tw-zh/products/category/technology/analytics\n",
            "//www.ibm.com/tw-zh/products/category/technology/mobile-technology\n",
            "//www.ibm.com/tw-zh/products/category/technology/IT-management\n",
            "//www.ibm.com/tw-zh/products/category/technology/blockchain\n",
            "//www.ibm.com/tw-zh/products/category/technology/software-development\n",
            "//www.ibm.com/tw-zh/products/category/technology/cognitive-computing-and-AI\n",
            "//www.ibm.com/tw-zh/products/category/technology/security\n",
            "//www.ibm.com/tw-zh/products/category/technology/cloud-computing\n",
            "//www.ibm.com/tw-zh/products/category/business/human-resources\n",
            "//www.ibm.com/tw-zh/products/category/business/content-management\n",
            "//www.ibm.com/tw-zh/products/category/business/customer-service-and-CRM\n",
            "//www.ibm.com/tw-zh/products/category/business/business-operations\n",
            "//www.ibm.com/tw-zh/products/category/business/collaboration\n",
            "//www.ibm.com/tw-zh/products/category/business/marketing\n",
            "//www.ibm.com/tw-zh/products/category/business/supply-chain-management\n",
            "//www.ibm.com/tw-zh/products/category/business/commerce\n",
            "//www.ibm.com/tw-zh/products/category/business/finance\n",
            "https://www.ibm.com/tw-zh/campaign/activity\n",
            "https://www.ibm.com/tw-zh/campaign/activity\n",
            "https://www.ibm.com/tw-zh/campaign/activity\n",
            "##\n",
            "https://www.ibm.com/tw-zh/campaign/activity\n",
            "https://www.ibm.com/tw-zh/campaign/activity\n",
            "##\n",
            "https://www.ibm.com/tw-zh/campaign/activity\n",
            "https://www.ibm.com/tw-zh/campaign/activity\n",
            "https://www.ibm.com/tw-zh/campaign/activity\n",
            "https://www.ibm.com/tw-zh/employment/\n",
            "https://www.ibm.com/tw-zh/employment/\n",
            "#\n"
          ],
          "name": "stdout"
        }
      ]
    },
    {
      "cell_type": "code",
      "metadata": {
        "id": "-k8FK5oMmgZH"
      },
      "source": [
        "images = []\r\n",
        "for link in soup.find_all('img'):\r\n",
        "  images.append(link.get('src'))"
      ],
      "execution_count": 15,
      "outputs": []
    },
    {
      "cell_type": "code",
      "metadata": {
        "colab": {
          "base_uri": "https://localhost:8080/"
        },
        "id": "YqksGnzOnwAY",
        "outputId": "3206337c-20b8-4e40-8621-433059e621d5"
      },
      "source": [
        "images"
      ],
      "execution_count": 16,
      "outputs": [
        {
          "output_type": "execute_result",
          "data": {
            "text/plain": [
              "['https://1.cms.s81c.com/sites/default/files/2020-03-20/44444.png',\n",
              " 'https://1.dam.s81c.com/public/content/dam/worldwide-content/homepage/ul/g/8a/90/20210209-flash-system-5200-storage-25719-444x320.jpg',\n",
              " 'https://1.cms.s81c.com/sites/default/files/2020-10-26/homepage-icy.jpg',\n",
              " 'https://1.cms.s81c.com/sites/default/files/2020-09-10/card1.png',\n",
              " 'https://1.dam.s81c.com/public/content/dam/worldwide-content/other/ul/g/02/df/02dfdf0d-305a-4d56-bc959b60ad35f0c9.jpg',\n",
              " 'https://1.dam.s81c.com/m/384ebe707abace40/original/SPSS-Statistics-23108-700x420.png',\n",
              " 'https://1.dam.s81c.com/public/content/dam/worldwide-content/homepage/ul/g/36/d9/cloud-satellite-trial.png',\n",
              " 'https://1.dam.s81c.com/public/content/dam/worldwide-content/other/ul/g/f2/4f/f24f3671-87a9-4ded-85d7b554e455c276.png',\n",
              " 'https://1.dam.s81c.com/m/7cf8849433ed7b69/original/Cloud-Paks-HP-trial.png',\n",
              " 'https://1.cms.s81c.com/sites/default/files/2019-08-11/homepage3.jpg',\n",
              " 'https://1.cms.s81c.com/sites/default/files/2019-08-11/homepage3.jpg']"
            ]
          },
          "metadata": {
            "tags": []
          },
          "execution_count": 16
        }
      ]
    },
    {
      "cell_type": "code",
      "metadata": {
        "id": "sXHXm2Q5msuf"
      },
      "source": [
        "url = \"https://cf-courses-data.s3.us.cloud-object-storage.appdomain.cloud/IBM-DA0321EN-SkillsNetwork/labs/datasets/HTMLColorCodes.html\""
      ],
      "execution_count": 19,
      "outputs": []
    },
    {
      "cell_type": "code",
      "metadata": {
        "colab": {
          "base_uri": "https://localhost:8080/"
        },
        "id": "dwxbvrbEnCtE",
        "outputId": "9f7e1147-81a5-4240-d2d5-37dcbf7beb07"
      },
      "source": [
        "data = requests.get(url).text\r\n",
        "print(data)"
      ],
      "execution_count": 25,
      "outputs": [
        {
          "output_type": "stream",
          "text": [
            "<!doctype html>\n",
            "<html lang=\"en\">\n",
            "<head>\n",
            "<title>\n",
            "Salary survey results of programming languages\n",
            "</title>\n",
            "<style>\n",
            "table, th, td {\n",
            "  border: 1px solid black;\n",
            "}\n",
            "</style>\n",
            "</head>\n",
            "\n",
            "<body>\n",
            "<hr />\n",
            "<h2>Popular Programming Languages</h2>\n",
            "<hr />\n",
            "<p>Finding out which is the best language is a tough task. A programming language is created to solve a specific problem. A language which is good for task A may not be able to properly handle task B. Comparing programming language is never easy. What we can do, however, is find which is popular in the industry.</p>\n",
            "<p>There are many ways to find the popularity of a programming languages. Counting the number of google searchs for each language is a simple way to find the popularity. GitHub and StackOverflow also can give some good pointers.</p>\n",
            "<p>Salary surveys are a way to find out the programmings languages that are most in demand in the industry. Below table is the result of one such survey. When using any survey keep in mind that the results vary year on year.</p>\n",
            "<hr />\n",
            "<table>\n",
            "<tbody>\n",
            "<tr>\n",
            "<td>No.</td>\n",
            "<td>Language</td>\n",
            "<td>Created By</td>\n",
            "<td>Average Annual Salary</td>\n",
            "<td>Learning Difficulty</td>\n",
            "</tr>\n",
            "<tr>\n",
            "<td>1</td>\n",
            "<td>Python</td>\n",
            "<td>Guido van Rossum</td>\n",
            "<td>$114,383</td>\n",
            "<td>Easy</td>\n",
            "</tr>\n",
            "<tr>\n",
            "<td>2</td>\n",
            "<td>Java</td>\n",
            "<td>James Gosling</td>\n",
            "<td>$101,013</td>\n",
            "<td>Easy</td>\n",
            "</tr>\n",
            "<tr>\n",
            "<td>3</td>\n",
            "<td>R</td>\n",
            "<td>Robert Gentleman, Ross Ihaka</td>\n",
            "<td>$92,037</td>\n",
            "<td>Hard</td>\n",
            "</tr>\n",
            "<tr>\n",
            "<td>4</td>\n",
            "<td>Javascript</td>\n",
            "<td>Netscape</td>\n",
            "<td>$110,981</td>\n",
            "<td>Easy</td>\n",
            "</tr>\n",
            "<tr>\n",
            "<td>5</td>\n",
            "<td>Swift</td>\n",
            "<td>Apple</td>\n",
            "<td>$130,801</td>\n",
            "<td>Easy</td>\n",
            "</tr>\n",
            "<tr>\n",
            "<td>6</td>\n",
            "<td>C++</td>\n",
            "<td>Bjarne Stroustrup</td>\n",
            "<td>$113,865</td>\n",
            "<td>Hard</td>\n",
            "</tr>\n",
            "<tr>\n",
            "<td>7</td>\n",
            "<td>C#</td>\n",
            "<td>Microsoft</td>\n",
            "<td>$88,726</td>\n",
            "<td>Hard</td>\n",
            "</tr>\n",
            "<tr>\n",
            "<td>8</td>\n",
            "<td>PHP</td>\n",
            "<td>Rasmus Lerdorf</td>\n",
            "<td>$84,727</td>\n",
            "<td>Easy</td>\n",
            "</tr>\n",
            "<tr>\n",
            "<td>9</td>\n",
            "<td>SQL</td>\n",
            "<td>Donald D. Chamberlin, Raymond F. Boyce.</td>\n",
            "<td>$84,793</td>\n",
            "<td>Easy</td>\n",
            "</tr>\n",
            "<tr>\n",
            "<td>10</td>\n",
            "<td>Go</td>\n",
            "<td>Robert Griesemer, Ken Thompson, Rob Pike.</td>\n",
            "<td>$94,082</td>\n",
            "<td>Difficult</td>\n",
            "</tr>\n",
            "</tbody>\n",
            "</table>\n",
            "<hr />\n",
            "</body>\n",
            "</html>\n"
          ],
          "name": "stdout"
        }
      ]
    },
    {
      "cell_type": "code",
      "metadata": {
        "id": "s6OXfkitnU9K"
      },
      "source": [
        "soup = BeautifulSoup(data, \"html5lib\")\r\n",
        "table = soup.find('table')"
      ],
      "execution_count": 21,
      "outputs": []
    },
    {
      "cell_type": "code",
      "metadata": {
        "colab": {
          "base_uri": "https://localhost:8080/"
        },
        "id": "3HysVt8cope5",
        "outputId": "caccf3bf-01df-433d-9409-d7558f187266"
      },
      "source": [
        "for row in table.find_all('tr'):\r\n",
        "  cols = row.find_all('td')\r\n",
        "  color_name = cols[2].getText()\r\n",
        "  color_code = cols[3].getText()\r\n",
        "  print(\"{}....>{}\".format(color_name, color_code))"
      ],
      "execution_count": 22,
      "outputs": [
        {
          "output_type": "stream",
          "text": [
            "Color Name....>Hex Code#RRGGBB\n",
            "lightsalmon....>#FFA07A\n",
            "salmon....>#FA8072\n",
            "darksalmon....>#E9967A\n",
            "lightcoral....>#F08080\n",
            "coral....>#FF7F50\n",
            "tomato....>#FF6347\n",
            "orangered....>#FF4500\n",
            "gold....>#FFD700\n",
            "orange....>#FFA500\n",
            "darkorange....>#FF8C00\n",
            "lightyellow....>#FFFFE0\n",
            "lemonchiffon....>#FFFACD\n",
            "papayawhip....>#FFEFD5\n",
            "moccasin....>#FFE4B5\n",
            "peachpuff....>#FFDAB9\n",
            "palegoldenrod....>#EEE8AA\n",
            "khaki....>#F0E68C\n",
            "darkkhaki....>#BDB76B\n",
            "yellow....>#FFFF00\n",
            "lawngreen....>#7CFC00\n",
            "chartreuse....>#7FFF00\n",
            "limegreen....>#32CD32\n",
            "lime....>#00FF00\n",
            "forestgreen....>#228B22\n",
            "green....>#008000\n",
            "powderblue....>#B0E0E6\n",
            "lightblue....>#ADD8E6\n",
            "lightskyblue....>#87CEFA\n",
            "skyblue....>#87CEEB\n",
            "deepskyblue....>#00BFFF\n",
            "lightsteelblue....>#B0C4DE\n",
            "dodgerblue....>#1E90FF\n"
          ],
          "name": "stdout"
        }
      ]
    },
    {
      "cell_type": "code",
      "metadata": {
        "id": "-jdfgsynpOIM"
      },
      "source": [
        "from bs4 import BeautifulSoup\r\n",
        "import requests"
      ],
      "execution_count": 23,
      "outputs": []
    },
    {
      "cell_type": "code",
      "metadata": {
        "id": "VC6sSA4op93d"
      },
      "source": [
        "url = \"https://cf-courses-data.s3.us.cloud-object-storage.appdomain.cloud/IBM-DA0321EN-SkillsNetwork/labs/datasets/Programming_Languages.html\""
      ],
      "execution_count": 24,
      "outputs": []
    },
    {
      "cell_type": "code",
      "metadata": {
        "id": "NWEE_0VAqDCH"
      },
      "source": [
        "data = requests.get(url).text"
      ],
      "execution_count": 26,
      "outputs": []
    },
    {
      "cell_type": "code",
      "metadata": {
        "colab": {
          "base_uri": "https://localhost:8080/"
        },
        "id": "7PQ5wAy_qmob",
        "outputId": "8779596a-9522-402b-e16f-b957ed9ea540"
      },
      "source": [
        "print(data)"
      ],
      "execution_count": 28,
      "outputs": [
        {
          "output_type": "stream",
          "text": [
            "<!doctype html>\n",
            "<html lang=\"en\">\n",
            "<head>\n",
            "<title>\n",
            "Salary survey results of programming languages\n",
            "</title>\n",
            "<style>\n",
            "table, th, td {\n",
            "  border: 1px solid black;\n",
            "}\n",
            "</style>\n",
            "</head>\n",
            "\n",
            "<body>\n",
            "<hr />\n",
            "<h2>Popular Programming Languages</h2>\n",
            "<hr />\n",
            "<p>Finding out which is the best language is a tough task. A programming language is created to solve a specific problem. A language which is good for task A may not be able to properly handle task B. Comparing programming language is never easy. What we can do, however, is find which is popular in the industry.</p>\n",
            "<p>There are many ways to find the popularity of a programming languages. Counting the number of google searchs for each language is a simple way to find the popularity. GitHub and StackOverflow also can give some good pointers.</p>\n",
            "<p>Salary surveys are a way to find out the programmings languages that are most in demand in the industry. Below table is the result of one such survey. When using any survey keep in mind that the results vary year on year.</p>\n",
            "<hr />\n",
            "<table>\n",
            "<tbody>\n",
            "<tr>\n",
            "<td>No.</td>\n",
            "<td>Language</td>\n",
            "<td>Created By</td>\n",
            "<td>Average Annual Salary</td>\n",
            "<td>Learning Difficulty</td>\n",
            "</tr>\n",
            "<tr>\n",
            "<td>1</td>\n",
            "<td>Python</td>\n",
            "<td>Guido van Rossum</td>\n",
            "<td>$114,383</td>\n",
            "<td>Easy</td>\n",
            "</tr>\n",
            "<tr>\n",
            "<td>2</td>\n",
            "<td>Java</td>\n",
            "<td>James Gosling</td>\n",
            "<td>$101,013</td>\n",
            "<td>Easy</td>\n",
            "</tr>\n",
            "<tr>\n",
            "<td>3</td>\n",
            "<td>R</td>\n",
            "<td>Robert Gentleman, Ross Ihaka</td>\n",
            "<td>$92,037</td>\n",
            "<td>Hard</td>\n",
            "</tr>\n",
            "<tr>\n",
            "<td>4</td>\n",
            "<td>Javascript</td>\n",
            "<td>Netscape</td>\n",
            "<td>$110,981</td>\n",
            "<td>Easy</td>\n",
            "</tr>\n",
            "<tr>\n",
            "<td>5</td>\n",
            "<td>Swift</td>\n",
            "<td>Apple</td>\n",
            "<td>$130,801</td>\n",
            "<td>Easy</td>\n",
            "</tr>\n",
            "<tr>\n",
            "<td>6</td>\n",
            "<td>C++</td>\n",
            "<td>Bjarne Stroustrup</td>\n",
            "<td>$113,865</td>\n",
            "<td>Hard</td>\n",
            "</tr>\n",
            "<tr>\n",
            "<td>7</td>\n",
            "<td>C#</td>\n",
            "<td>Microsoft</td>\n",
            "<td>$88,726</td>\n",
            "<td>Hard</td>\n",
            "</tr>\n",
            "<tr>\n",
            "<td>8</td>\n",
            "<td>PHP</td>\n",
            "<td>Rasmus Lerdorf</td>\n",
            "<td>$84,727</td>\n",
            "<td>Easy</td>\n",
            "</tr>\n",
            "<tr>\n",
            "<td>9</td>\n",
            "<td>SQL</td>\n",
            "<td>Donald D. Chamberlin, Raymond F. Boyce.</td>\n",
            "<td>$84,793</td>\n",
            "<td>Easy</td>\n",
            "</tr>\n",
            "<tr>\n",
            "<td>10</td>\n",
            "<td>Go</td>\n",
            "<td>Robert Griesemer, Ken Thompson, Rob Pike.</td>\n",
            "<td>$94,082</td>\n",
            "<td>Difficult</td>\n",
            "</tr>\n",
            "</tbody>\n",
            "</table>\n",
            "<hr />\n",
            "</body>\n",
            "</html>\n"
          ],
          "name": "stdout"
        }
      ]
    },
    {
      "cell_type": "code",
      "metadata": {
        "id": "q8KcFJoEqntC"
      },
      "source": [
        "soup = BeautifulSoup(data, \"html5lib\")"
      ],
      "execution_count": 29,
      "outputs": []
    },
    {
      "cell_type": "code",
      "metadata": {
        "id": "ckyWuKvlzg44"
      },
      "source": [
        "table = soup.find('table')"
      ],
      "execution_count": 34,
      "outputs": []
    },
    {
      "cell_type": "code",
      "metadata": {
        "colab": {
          "base_uri": "https://localhost:8080/"
        },
        "id": "n8t4rFCbFjrX",
        "outputId": "0cb8ca32-5d93-47de-a818-718e3d961126"
      },
      "source": [
        "language_li = []\r\n",
        "average_salary_li = []\r\n",
        "for row in table.find_all('tr'):\r\n",
        "  cols = row.find_all('td')\r\n",
        "  language = cols[1].getText()\r\n",
        "  language_li.append(language)\r\n",
        "  average_salary = cols[3].getText()\r\n",
        "  average_salary_li.append(average_salary)\r\n",
        "\r\n",
        "  print(\"{}....>{}\".format(language, average_salary))\r\n",
        "\r\n",
        "\r\n"
      ],
      "execution_count": 41,
      "outputs": [
        {
          "output_type": "stream",
          "text": [
            "Language....>Average Annual Salary\n",
            "Python....>$114,383\n",
            "Java....>$101,013\n",
            "R....>$92,037\n",
            "Javascript....>$110,981\n",
            "Swift....>$130,801\n",
            "C++....>$113,865\n",
            "C#....>$88,726\n",
            "PHP....>$84,727\n",
            "SQL....>$84,793\n",
            "Go....>$94,082\n"
          ],
          "name": "stdout"
        }
      ]
    },
    {
      "cell_type": "code",
      "metadata": {
        "colab": {
          "base_uri": "https://localhost:8080/"
        },
        "id": "8oqt82I3HFpX",
        "outputId": "8c24ee94-06ae-4085-c88d-b5fd608a68a1"
      },
      "source": [
        "average_salary_li"
      ],
      "execution_count": 42,
      "outputs": [
        {
          "output_type": "execute_result",
          "data": {
            "text/plain": [
              "['Average Annual Salary',\n",
              " '$114,383',\n",
              " '$101,013',\n",
              " '$92,037',\n",
              " '$110,981',\n",
              " '$130,801',\n",
              " '$113,865',\n",
              " '$88,726',\n",
              " '$84,727',\n",
              " '$84,793',\n",
              " '$94,082']"
            ]
          },
          "metadata": {
            "tags": []
          },
          "execution_count": 42
        }
      ]
    },
    {
      "cell_type": "code",
      "metadata": {
        "colab": {
          "base_uri": "https://localhost:8080/"
        },
        "id": "87dcppFyKG1K",
        "outputId": "c330f1ac-16ad-4f43-ce6c-a8c2ed05027f"
      },
      "source": [
        "language_li"
      ],
      "execution_count": 43,
      "outputs": [
        {
          "output_type": "execute_result",
          "data": {
            "text/plain": [
              "['Language',\n",
              " 'Python',\n",
              " 'Java',\n",
              " 'R',\n",
              " 'Javascript',\n",
              " 'Swift',\n",
              " 'C++',\n",
              " 'C#',\n",
              " 'PHP',\n",
              " 'SQL',\n",
              " 'Go']"
            ]
          },
          "metadata": {
            "tags": []
          },
          "execution_count": 43
        }
      ]
    },
    {
      "cell_type": "code",
      "metadata": {
        "id": "TGli3q6zLAbz"
      },
      "source": [
        "import pandas as pd"
      ],
      "execution_count": 44,
      "outputs": []
    },
    {
      "cell_type": "code",
      "metadata": {
        "id": "WP2JFyLYLEkC"
      },
      "source": [
        "df = pd.DataFrame(language_li, average_salary_li)"
      ],
      "execution_count": 47,
      "outputs": []
    },
    {
      "cell_type": "code",
      "metadata": {
        "id": "ao3IDnTeLQkW"
      },
      "source": [
        "df.to_csv(\"progamming_lan_vs_salary\")"
      ],
      "execution_count": 52,
      "outputs": []
    },
    {
      "cell_type": "code",
      "metadata": {
        "colab": {
          "base_uri": "https://localhost:8080/"
        },
        "id": "uszx3wHyLRWJ",
        "outputId": "5f76be56-6dea-4d02-ebfa-1bf8eb0c01fa"
      },
      "source": [
        "!ls"
      ],
      "execution_count": 53,
      "outputs": [
        {
          "output_type": "stream",
          "text": [
            "progamming_lan_vs_salary  sample_data\n"
          ],
          "name": "stdout"
        }
      ]
    },
    {
      "cell_type": "code",
      "metadata": {
        "id": "-6WPTKSHMa9B"
      },
      "source": [
        "dataset = pd.read_csv(\"progamming_lan_vs_salary\")"
      ],
      "execution_count": 55,
      "outputs": []
    },
    {
      "cell_type": "code",
      "metadata": {
        "colab": {
          "base_uri": "https://localhost:8080/",
          "height": 373
        },
        "id": "8H7lo8s1Mkd-",
        "outputId": "99b4acca-765c-4e63-b812-684c756dd772"
      },
      "source": [
        "dataset"
      ],
      "execution_count": 58,
      "outputs": [
        {
          "output_type": "execute_result",
          "data": {
            "text/html": [
              "<div>\n",
              "<style scoped>\n",
              "    .dataframe tbody tr th:only-of-type {\n",
              "        vertical-align: middle;\n",
              "    }\n",
              "\n",
              "    .dataframe tbody tr th {\n",
              "        vertical-align: top;\n",
              "    }\n",
              "\n",
              "    .dataframe thead th {\n",
              "        text-align: right;\n",
              "    }\n",
              "</style>\n",
              "<table border=\"1\" class=\"dataframe\">\n",
              "  <thead>\n",
              "    <tr style=\"text-align: right;\">\n",
              "      <th></th>\n",
              "      <th>Unnamed: 0</th>\n",
              "      <th>0</th>\n",
              "    </tr>\n",
              "  </thead>\n",
              "  <tbody>\n",
              "    <tr>\n",
              "      <th>0</th>\n",
              "      <td>Average Annual Salary</td>\n",
              "      <td>Language</td>\n",
              "    </tr>\n",
              "    <tr>\n",
              "      <th>1</th>\n",
              "      <td>$114,383</td>\n",
              "      <td>Python</td>\n",
              "    </tr>\n",
              "    <tr>\n",
              "      <th>2</th>\n",
              "      <td>$101,013</td>\n",
              "      <td>Java</td>\n",
              "    </tr>\n",
              "    <tr>\n",
              "      <th>3</th>\n",
              "      <td>$92,037</td>\n",
              "      <td>R</td>\n",
              "    </tr>\n",
              "    <tr>\n",
              "      <th>4</th>\n",
              "      <td>$110,981</td>\n",
              "      <td>Javascript</td>\n",
              "    </tr>\n",
              "    <tr>\n",
              "      <th>5</th>\n",
              "      <td>$130,801</td>\n",
              "      <td>Swift</td>\n",
              "    </tr>\n",
              "    <tr>\n",
              "      <th>6</th>\n",
              "      <td>$113,865</td>\n",
              "      <td>C++</td>\n",
              "    </tr>\n",
              "    <tr>\n",
              "      <th>7</th>\n",
              "      <td>$88,726</td>\n",
              "      <td>C#</td>\n",
              "    </tr>\n",
              "    <tr>\n",
              "      <th>8</th>\n",
              "      <td>$84,727</td>\n",
              "      <td>PHP</td>\n",
              "    </tr>\n",
              "    <tr>\n",
              "      <th>9</th>\n",
              "      <td>$84,793</td>\n",
              "      <td>SQL</td>\n",
              "    </tr>\n",
              "    <tr>\n",
              "      <th>10</th>\n",
              "      <td>$94,082</td>\n",
              "      <td>Go</td>\n",
              "    </tr>\n",
              "  </tbody>\n",
              "</table>\n",
              "</div>"
            ],
            "text/plain": [
              "               Unnamed: 0           0\n",
              "0   Average Annual Salary    Language\n",
              "1                $114,383      Python\n",
              "2                $101,013        Java\n",
              "3                 $92,037           R\n",
              "4                $110,981  Javascript\n",
              "5                $130,801       Swift\n",
              "6                $113,865         C++\n",
              "7                 $88,726          C#\n",
              "8                 $84,727         PHP\n",
              "9                 $84,793         SQL\n",
              "10                $94,082          Go"
            ]
          },
          "metadata": {
            "tags": []
          },
          "execution_count": 58
        }
      ]
    },
    {
      "cell_type": "code",
      "metadata": {
        "id": "cMN5OOTqMoKW"
      },
      "source": [
        ""
      ],
      "execution_count": null,
      "outputs": []
    }
  ]
}